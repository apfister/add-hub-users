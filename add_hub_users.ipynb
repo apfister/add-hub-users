{
 "cells": [
  {
   "cell_type": "code",
   "execution_count": null,
   "metadata": {
    "collapsed": true
   },
   "outputs": [],
   "source": [
    "from arcgis.gis import GIS\n",
    "from arcgis.gis import Group\n",
    "from arcgis.gis.admin import CreditManager\n",
    "import getpass\n",
    "\n",
    "arcgis_url = 'https://www.arcgis.com'\n",
    "\n",
    "# log into hub community org\n",
    "user_name = input('Hub Admin Username: ')\n",
    "password = getpass.getpass('Hub Admin Password: ')\n",
    "\n",
    "hub_gis = GIS(arcgis_url, user_name, password)\n",
    "\n",
    "# create an instance of CreditManager to allocate credits to new Hub users\n",
    "cm = CreditManager(hub_gis)"
   ]
  },
  {
   "cell_type": "code",
   "execution_count": null,
   "metadata": {
    "collapsed": true
   },
   "outputs": [],
   "source": [
    "# get an instance of our GIS's UserManager\n",
    "users = hub_gis.users\n",
    "\n",
    "user = None\n",
    "\n",
    "# create a new users\n",
    "try:\n",
    "    user = users.create(\n",
    "        username='tree.collectorAP',\n",
    "        password='something.very.temporary.2018',\n",
    "        firstname='Tree',\n",
    "        lastname='Collector',\n",
    "        email='apfister@esri.com',\n",
    "        role='org_publisher',\n",
    "        level=2,\n",
    "        provider='arcgis'\n",
    "    )    \n",
    "except:\n",
    "    print ('unable to create user ..')\n",
    "\n",
    "# hand out the Hub-standard 500 credits\n",
    "cm.allocate(user.username, credits=500)\n",
    "\n",
    "# update the user bio because for some reason, this doesn't take in the above create() call \n",
    "user.update(description='This is an account that was automatically generated for the 2018 GIS for a Sustainable World conference')\n",
    "\n",
    "# do a reset so that the User doesn't have to go through the change password on initial login flow\n",
    "# security question `13` is \"What is your dream job?\" :)\n",
    "# the only bad thing here is that this will auto-send an email to the address above\n",
    "# need a way to skip the auto-email..\n",
    "user.reset(password='something.very.temporary.2018',\n",
    "           new_password='geneva.2018',\n",
    "          new_security_question=13,\n",
    "          new_security_answer='Solutions Engineer')\n",
    "    \n",
    "# let's take a look\n",
    "user"
   ]
  },
  {
   "cell_type": "code",
   "execution_count": null,
   "metadata": {},
   "outputs": [],
   "source": [
    "## add member to field data collection group\n",
    "\n",
    "# sign in using the newly created user\n",
    "user_gis = GIS(arcgis_url, 'tree.collectorAP', 'geneva.2018')\n",
    "\n",
    "# get an instance of the AGO Group we want the user to auto-join\n",
    "group_id = input('ArcGIS Online Group ID: ')\n",
    "user_grp = Group(user_gis, group_id)\n",
    "\n",
    "# join!\n",
    "user_grp.join()"
   ]
  }
 ],
 "metadata": {
  "kernelspec": {
   "display_name": "Python 3",
   "language": "python",
   "name": "python3"
  },
  "language_info": {
   "codemirror_mode": {
    "name": "ipython",
    "version": 3
   },
   "file_extension": ".py",
   "mimetype": "text/x-python",
   "name": "python",
   "nbconvert_exporter": "python",
   "pygments_lexer": "ipython3",
   "version": "3.6.1"
  }
 },
 "nbformat": 4,
 "nbformat_minor": 2
}
